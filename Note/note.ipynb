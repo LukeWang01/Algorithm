{
 "cells": [
  {
   "cell_type": "code",
   "execution_count": 9,
   "metadata": {
    "collapsed": true,
    "pycharm": {
     "name": "#%%\n"
    }
   },
   "outputs": [
    {
     "name": "stdout",
     "output_type": "stream",
     "text": [
      "3\n",
      "2\n",
      "1\n",
      "None\n",
      "1\n",
      "2\n",
      "3\n",
      "None\n"
     ]
    }
   ],
   "source": [
    "# recursion\n",
    "\n",
    "def recursion(x):\n",
    "    if x >= 1:\n",
    "        print(x)\n",
    "        recursion(x-1)\n",
    "\n",
    "def recursion2(x):\n",
    "    if x >= 1:\n",
    "        recursion2(x-1)\n",
    "        print(x)\n",
    "\n",
    "\n",
    "print(recursion(3))\n",
    "print(recursion2(3))"
   ]
  },
  {
   "cell_type": "code",
   "execution_count": 4,
   "outputs": [
    {
     "name": "stdout",
     "output_type": "stream",
     "text": [
      "8\n"
     ]
    }
   ],
   "source": [
    "# Binary Search:\n",
    "def binary_search(ls, val):\n",
    "    left = 0\n",
    "    right = len(ls)\n",
    "    while left <= right:\n",
    "        mid = (left + right) // 2\n",
    "        if ls[mid] == val:\n",
    "            return mid\n",
    "        elif ls[mid] > val:\n",
    "            right = mid -1\n",
    "        else:\n",
    "            left = mid + 1\n",
    "\n",
    "    else:\n",
    "        return None\n",
    "\n",
    "ls = list(range(0,20))\n",
    "print(binary_search(ls, 8))"
   ],
   "metadata": {
    "collapsed": false,
    "pycharm": {
     "name": "#%%\n"
    }
   }
  },
  {
   "cell_type": "code",
   "execution_count": 7,
   "outputs": [
    {
     "name": "stdout",
     "output_type": "stream",
     "text": [
      "5\n"
     ]
    }
   ],
   "source": [
    "# Linear search:\n",
    "def linear_search(ls, val):\n",
    "    for i in range(len(ls)):\n",
    "        if ls[i] == val:\n",
    "            return i\n",
    "\n",
    "ls =[2,3,6,1,7,8,0,3,54,7]\n",
    "print(linear_search(ls, 8))\n"
   ],
   "metadata": {
    "collapsed": false,
    "pycharm": {
     "name": "#%%\n"
    }
   }
  },
  {
   "cell_type": "code",
   "execution_count": 6,
   "outputs": [
    {
     "name": "stdout",
     "output_type": "stream",
     "text": [
      "[0, 1, 2, 3, 3, 6, 7, 7, 8, 54]\n"
     ]
    }
   ],
   "source": [
    "# Bubble_sort\n",
    "\n",
    "def bubble_sort(ls):\n",
    "    n = len(ls)\n",
    "    for i in range(n-1):\n",
    "        for j in range(n-i-1):\n",
    "            if ls[j] > ls[j+1]:\n",
    "                ls[j+1], ls[j] = ls[j], ls[j+1]\n",
    "\n",
    "    return ls\n",
    "\n",
    "ls =[2,3,6,1,7,8,0,3,54,7]\n",
    "\n",
    "ls = bubble_sort(ls)\n",
    "\n",
    "print(ls)\n"
   ],
   "metadata": {
    "collapsed": false,
    "pycharm": {
     "name": "#%%\n"
    }
   }
  }
 ],
 "metadata": {
  "kernelspec": {
   "display_name": "Python 3",
   "language": "python",
   "name": "python3"
  },
  "language_info": {
   "codemirror_mode": {
    "name": "ipython",
    "version": 2
   },
   "file_extension": ".py",
   "mimetype": "text/x-python",
   "name": "python",
   "nbconvert_exporter": "python",
   "pygments_lexer": "ipython2",
   "version": "2.7.6"
  }
 },
 "nbformat": 4,
 "nbformat_minor": 0
}