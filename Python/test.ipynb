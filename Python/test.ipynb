{
 "cells": [
  {
   "cell_type": "code",
   "execution_count": 3,
   "metadata": {
    "collapsed": true,
    "pycharm": {
     "name": "#%%\n"
    }
   },
   "outputs": [
    {
     "name": "stdout",
     "output_type": "stream",
     "text": [
      "binary_search running 5.385566e-02 seconds, result is 3\n",
      "linear_search running 0.000000e+00 seconds, result is 3\n"
     ]
    },
    {
     "data": {
      "text/plain": "<function calculate_time.calculate_time.<locals>.wrapper(*args, **kwargs)>"
     },
     "execution_count": 3,
     "metadata": {},
     "output_type": "execute_result"
    }
   ],
   "source": [
    "from search import *\n",
    "from calculate_time import *\n",
    "\n",
    "\n",
    "# test search timing:\n",
    "\n",
    "li = list(range(10000))\n",
    "calculate_time(binary_search(li, 3))\n",
    "calculate_time(linear_search(li, 3))"
   ]
  }
 ],
 "metadata": {
  "kernelspec": {
   "display_name": "Python 3",
   "language": "python",
   "name": "python3"
  },
  "language_info": {
   "codemirror_mode": {
    "name": "ipython",
    "version": 2
   },
   "file_extension": ".py",
   "mimetype": "text/x-python",
   "name": "python",
   "nbconvert_exporter": "python",
   "pygments_lexer": "ipython2",
   "version": "2.7.6"
  }
 },
 "nbformat": 4,
 "nbformat_minor": 0
}