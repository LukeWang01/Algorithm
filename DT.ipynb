{
 "cells": [
  {
   "cell_type": "code",
   "execution_count": 4,
   "metadata": {
    "collapsed": true,
    "pycharm": {
     "name": "#%%\n"
    }
   },
   "outputs": [
    {
     "name": "stdout",
     "output_type": "stream",
     "text": [
      "True\n",
      "False\n"
     ]
    }
   ],
   "source": [
    "#\n",
    "# Stack\n",
    "\n",
    "class Stack:\n",
    "    def __init__(self):\n",
    "        self.stack = []\n",
    "\n",
    "    def push(self, val):\n",
    "        self.stack.append(val)\n",
    "\n",
    "    def pop(self):\n",
    "        return self.stack.pop()\n",
    "\n",
    "    def gettop(self):\n",
    "        if len(self.stack) > 0:\n",
    "            return self.stack[-1]\n",
    "        else:\n",
    "            return None\n",
    "\n",
    "    def isempty(self):\n",
    "        return len(self.stack) == 0\n",
    "\n",
    "def brace_match(s):\n",
    "    stack = Stack()\n",
    "    braces = {\"(\": \")\", \"[\": \"]\", \"{\": \"}\"}\n",
    "    for i in range(len(s)):\n",
    "        if i == 0:\n",
    "            stack.push(s[i])\n",
    "        else:\n",
    "            if s[i] in braces.keys():\n",
    "                stack.push(s[i])\n",
    "            elif s[i] in braces.values():\n",
    "                if stack.isempty():\n",
    "                    return False\n",
    "                elif s[i] == \")\" and stack.gettop() == \"(\":\n",
    "                    stack.pop()\n",
    "                elif s[i] == \"]\" and stack.gettop() == \"[\":\n",
    "                    stack.pop()\n",
    "                elif s[i] == \"}\" and stack.gettop() == \"{\":\n",
    "                    stack.pop()\n",
    "                else:\n",
    "                    return False\n",
    "    if stack.isempty():\n",
    "        return True\n",
    "    else:\n",
    "        return False\n",
    "\n",
    "\n",
    "print(brace_match(\"()()(){}[]{}[()]\"))\n",
    "print(brace_match(\"()()){}[]{}[()]\"))\n"
   ]
  },
  {
   "cell_type": "code",
   "execution_count": 1,
   "outputs": [
    {
     "name": "stdout",
     "output_type": "stream",
     "text": [
      "0\n",
      "1\n",
      "2\n",
      "3\n",
      "4\n",
      "5\n",
      "6\n",
      "7\n"
     ]
    }
   ],
   "source": [
    "#\n",
    "# Queue:\n",
    "\n",
    "class Queue:\n",
    "    def __init__(self, max_size=100):\n",
    "        self.queue = [0 for i in range(max_size)]\n",
    "        self.front = 0\n",
    "        self.rear = 0\n",
    "        self.max_size = max_size\n",
    "\n",
    "    def push(self,val):\n",
    "        if self.is_full():\n",
    "            raise IndexError(\"Queue is full\")\n",
    "        else:\n",
    "            self.rear = (self.rear + 1) % self.max_size\n",
    "            self.queue[self.rear] = val\n",
    "\n",
    "    def pop(self):\n",
    "        if not self.is_empty():\n",
    "            self.front = (self.front + 1) % self.max_size\n",
    "            return self.queue[self.front]\n",
    "        else:\n",
    "            raise IndexError(\"Queue is empty\")\n",
    "\n",
    "    def is_empty(self):\n",
    "        return self.rear == self.front\n",
    "\n",
    "    def is_full(self):\n",
    "        return (self.rear + 1) % self.max_size == self.front\n",
    "\n",
    "    def get_front(self):\n",
    "        if self.is_empty():\n",
    "            raise IndexError(\"Queue is empty\")\n",
    "        else:\n",
    "            return self.queue[self.front + 1]\n",
    "\n",
    "    def get_rear(self):\n",
    "        if self.is_empty():\n",
    "            raise IndexError(\"Queue is empty\")\n",
    "        else:\n",
    "            return self.queue[self.rear]\n",
    "\n",
    "\n",
    "q = Queue(10)\n",
    "for i in range(9):\n",
    "    q.push(i)\n",
    "\n",
    "for i in range(8):\n",
    "    print(q.pop())\n"
   ],
   "metadata": {
    "collapsed": false,
    "pycharm": {
     "name": "#%%\n"
    }
   }
  },
  {
   "cell_type": "code",
   "execution_count": 9,
   "outputs": [
    {
     "data": {
      "text/plain": "2"
     },
     "execution_count": 9,
     "metadata": {},
     "output_type": "execute_result"
    }
   ],
   "source": [
    "#\n",
    "# Built - in Queue:\n",
    "\n",
    "from collections import deque\n",
    "\n",
    "q = deque([1,2,3,4,5], 5)   # lst, size\n",
    "q.append(10)\n",
    "q.popleft()\n",
    "q.popleft()\n",
    "\n",
    "# q.appendleft(1)\n",
    "# q.pop()\n",
    "\n"
   ],
   "metadata": {
    "collapsed": false,
    "pycharm": {
     "name": "#%%\n"
    }
   }
  },
  {
   "cell_type": "code",
   "execution_count": null,
   "outputs": [],
   "source": [
    "# maze stack dfs:\n",
    "\n",
    "def hasPath_stack(self, maze: List[List[int]], start: List[int], destination: List[int]) -> bool:\n",
    "        stack = []\n",
    "        stack.append(start)\n",
    "        # start = [x, y]\n",
    "        m = len(maze)\n",
    "        n = len(maze[0])\n",
    "\n",
    "        while len(stack) > 0:\n",
    "            curNode = stack[-1]  # [x, y]\n",
    "            print(curNode[0], curNode[1])\n",
    "            if curNode == destination:\n",
    "                return True\n",
    "\n",
    "            elif curNode[0] + 1 < n and maze[curNode[0] + 1][curNode[1]] == 0:\n",
    "                # [x + 1, y]\n",
    "                stack.append([curNode[0] + 1, curNode[1]])\n",
    "                maze[curNode[0] + 1][curNode[1]] = 2\n",
    "\n",
    "            elif curNode[0] - 1>= 0 and maze[curNode[0] - 1][curNode[1]] == 0:\n",
    "                # [x -1, y]\n",
    "                stack.append([curNode[0] - 1, curNode[1]])\n",
    "                maze[curNode[0] - 1][curNode[1]] = 2\n",
    "\n",
    "            elif curNode[1] + 1 < m and maze[curNode[0]][curNode[1] + 1] == 0:\n",
    "                # [x, y + 1]\n",
    "                stack.append([curNode[0], curNode[1] + 1])\n",
    "                maze[curNode[0]][curNode[1] + 1] = 2\n",
    "\n",
    "            elif curNode[1] - 1 >= 0 and maze[curNode[0]][curNode[1] - 1] == 0:\n",
    "                # [x, y - 1]\n",
    "                stack.append([curNode[0], curNode[1] - 1])\n",
    "                maze[curNode[0]][curNode[1] - 1] = 2\n",
    "\n",
    "            else:\n",
    "                maze[curNode[0]][curNode[1]] = 2\n",
    "                stack.pop()\n",
    "        else:\n",
    "            return False"
   ],
   "metadata": {
    "collapsed": false,
    "pycharm": {
     "name": "#%%\n"
    }
   }
  },
  {
   "cell_type": "code",
   "execution_count": null,
   "outputs": [],
   "source": [
    "# maze queue bfs:\n",
    "from collections import deque\n",
    "\n",
    "dirs = [\n",
    "    lambda x,y: (x + 1, y),\n",
    "    lambda x,y: (x - 1, y),\n",
    "    lambda x,y: (x, y + 1),\n",
    "    lambda x,y: (x, y - 1)\n",
    "]\n",
    "\n",
    "def print_path(path):\n",
    "    res = []\n",
    "    curNode = path[-1]\n",
    "    res.append(curNode)\n",
    "\n",
    "    while curNode[2] != -1:     # the start node is labeled as -1, so, stop when label is -1\n",
    "        res.append(curNode[0:2])\n",
    "        curNode = path[curNode[2]]\n",
    "\n",
    "    res.append(curNode[0:2])    # append the start node\n",
    "    res.reverse()\n",
    "    for i in res:\n",
    "        print(i)\n",
    "\n",
    "def hasPath_queue(maze, x1, y1, x2, y2):\n",
    "    queue = deque()\n",
    "    queue.append((x1, y1, -1))\n",
    "    path = []\n",
    "\n",
    "    while len(queue) > 0:\n",
    "        curNode = queue.popleft()\n",
    "        path.append(curNode)\n",
    "\n",
    "        if curNode[0] == x2 and curNode[1] == y2:\n",
    "            print_path(path)\n",
    "            return True\n",
    "\n",
    "        for dir in dirs:\n",
    "            nextNode = dir(curNode[0], curNode[1])\n",
    "            if maze[nextNode[0]][nextNode[1]] == 0:\n",
    "                queue.append((nextNode[0], nextNode[1], len(path) - 1))     # save the index of previous node in the path\n",
    "                maze[nextNode[0]][nextNode[1]] = 2  # label this node is visited\n",
    "    else:\n",
    "        return False\n",
    "\n"
   ],
   "metadata": {
    "collapsed": false,
    "pycharm": {
     "name": "#%%\n"
    }
   }
  },
  {
   "cell_type": "code",
   "execution_count": null,
   "outputs": [],
   "source": [
    "class Node:\n",
    "    def __init__(self, node):\n",
    "        self.node = node\n",
    "        self.next = None\n",
    "\n",
    "\n",
    "def create_head(lst):\n",
    "    head = Node(lst[0])\n",
    "    for i in lst[1:]:\n",
    "        node = Node(i)\n",
    "        node.next = head\n",
    "        head = node\n",
    "\n",
    "    return head\n",
    "\n",
    "def create_tail(lst):\n",
    "    head = Node(lst[0])\n",
    "    tail = head\n",
    "    for i in lst:\n",
    "        node = Node(i)\n",
    "        tail.next = node\n",
    "        tail = node\n",
    "    return head\n",
    "\n",
    "def print_node(head):\n",
    "    while head:\n",
    "        print(head, end=\", \")\n",
    "        head = head.next\n",
    "\n"
   ],
   "metadata": {
    "collapsed": false,
    "pycharm": {
     "name": "#%%\n"
    }
   }
  },
  {
   "cell_type": "code",
   "execution_count": null,
   "outputs": [],
   "source": [],
   "metadata": {
    "collapsed": false,
    "pycharm": {
     "name": "#%%\n"
    }
   }
  }
 ],
 "metadata": {
  "kernelspec": {
   "display_name": "Python 3",
   "language": "python",
   "name": "python3"
  },
  "language_info": {
   "codemirror_mode": {
    "name": "ipython",
    "version": 2
   },
   "file_extension": ".py",
   "mimetype": "text/x-python",
   "name": "python",
   "nbconvert_exporter": "python",
   "pygments_lexer": "ipython2",
   "version": "2.7.6"
  }
 },
 "nbformat": 4,
 "nbformat_minor": 0
}