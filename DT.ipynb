{
 "cells": [
  {
   "cell_type": "code",
   "execution_count": 4,
   "metadata": {
    "collapsed": true,
    "pycharm": {
     "name": "#%%\n"
    }
   },
   "outputs": [
    {
     "name": "stdout",
     "output_type": "stream",
     "text": [
      "True\n",
      "False\n"
     ]
    }
   ],
   "source": [
    "#\n",
    "# Stack\n",
    "\n",
    "class Stack:\n",
    "    def __init__(self):\n",
    "        self.stack = []\n",
    "\n",
    "    def push(self, val):\n",
    "        self.stack.append(val)\n",
    "\n",
    "    def pop(self):\n",
    "        return self.stack.pop()\n",
    "\n",
    "    def gettop(self):\n",
    "        if len(self.stack) > 0:\n",
    "            return self.stack[-1]\n",
    "        else:\n",
    "            return None\n",
    "\n",
    "    def isempty(self):\n",
    "        return len(self.stack) == 0\n",
    "\n",
    "def brace_match(s):\n",
    "    stack = Stack()\n",
    "    braces = {\"(\": \")\", \"[\": \"]\", \"{\": \"}\"}\n",
    "    for i in range(len(s)):\n",
    "        if i == 0:\n",
    "            stack.push(s[i])\n",
    "        else:\n",
    "            if s[i] in braces.keys():\n",
    "                stack.push(s[i])\n",
    "            elif s[i] in braces.values():\n",
    "                if stack.isempty():\n",
    "                    return False\n",
    "                elif s[i] == \")\" and stack.gettop() == \"(\":\n",
    "                    stack.pop()\n",
    "                elif s[i] == \"]\" and stack.gettop() == \"[\":\n",
    "                    stack.pop()\n",
    "                elif s[i] == \"}\" and stack.gettop() == \"{\":\n",
    "                    stack.pop()\n",
    "                else:\n",
    "                    return False\n",
    "    if stack.isempty():\n",
    "        return True\n",
    "    else:\n",
    "        return False\n",
    "\n",
    "\n",
    "print(brace_match(\"()()(){}[]{}[()]\"))\n",
    "print(brace_match(\"()()){}[]{}[()]\"))\n"
   ]
  },
  {
   "cell_type": "code",
   "execution_count": 1,
   "outputs": [
    {
     "name": "stdout",
     "output_type": "stream",
     "text": [
      "0\n",
      "1\n",
      "2\n",
      "3\n",
      "4\n",
      "5\n",
      "6\n",
      "7\n"
     ]
    }
   ],
   "source": [
    "#\n",
    "# Queue:\n",
    "\n",
    "class Queue:\n",
    "    def __init__(self, max_size=100):\n",
    "        self.queue = [0 for i in range(max_size)]\n",
    "        self.front = 0\n",
    "        self.rear = 0\n",
    "        self.max_size = max_size\n",
    "\n",
    "    def push(self,val):\n",
    "        if self.is_full():\n",
    "            raise IndexError(\"Queue is full\")\n",
    "        else:\n",
    "            self.rear = (self.rear + 1) % self.max_size\n",
    "            self.queue[self.rear] = val\n",
    "\n",
    "    def pop(self):\n",
    "        if not self.is_empty():\n",
    "            self.front = (self.front + 1) % self.max_size\n",
    "            return self.queue[self.front]\n",
    "        else:\n",
    "            raise IndexError(\"Queue is empty\")\n",
    "\n",
    "    def is_empty(self):\n",
    "        return self.rear == self.front\n",
    "\n",
    "    def is_full(self):\n",
    "        return (self.rear + 1) % self.max_size == self.front\n",
    "\n",
    "    def get_front(self):\n",
    "        if self.is_empty():\n",
    "            raise IndexError(\"Queue is empty\")\n",
    "        else:\n",
    "            return self.queue[self.front + 1]\n",
    "\n",
    "    def get_rear(self):\n",
    "        if self.is_empty():\n",
    "            raise IndexError(\"Queue is empty\")\n",
    "        else:\n",
    "            return self.queue[self.rear]\n",
    "\n",
    "\n",
    "q = Queue(10)\n",
    "for i in range(9):\n",
    "    q.push(i)\n",
    "\n",
    "for i in range(8):\n",
    "    print(q.pop())\n"
   ],
   "metadata": {
    "collapsed": false,
    "pycharm": {
     "name": "#%%\n"
    }
   }
  },
  {
   "cell_type": "code",
   "execution_count": 9,
   "outputs": [
    {
     "data": {
      "text/plain": "2"
     },
     "execution_count": 9,
     "metadata": {},
     "output_type": "execute_result"
    }
   ],
   "source": [
    "#\n",
    "# Built - in Queue:\n",
    "\n",
    "from collections import deque\n",
    "\n",
    "q = deque([1,2,3,4,5], 5)   # lst, size\n",
    "q.append(10)\n",
    "q.popleft()\n",
    "q.popleft()\n",
    "\n",
    "# q.appendleft(1)\n",
    "# q.pop()\n",
    "\n"
   ],
   "metadata": {
    "collapsed": false,
    "pycharm": {
     "name": "#%%\n"
    }
   }
  },
  {
   "cell_type": "code",
   "execution_count": null,
   "outputs": [],
   "source": [],
   "metadata": {
    "collapsed": false,
    "pycharm": {
     "name": "#%%\n"
    }
   }
  }
 ],
 "metadata": {
  "kernelspec": {
   "display_name": "Python 3",
   "language": "python",
   "name": "python3"
  },
  "language_info": {
   "codemirror_mode": {
    "name": "ipython",
    "version": 2
   },
   "file_extension": ".py",
   "mimetype": "text/x-python",
   "name": "python",
   "nbconvert_exporter": "python",
   "pygments_lexer": "ipython2",
   "version": "2.7.6"
  }
 },
 "nbformat": 4,
 "nbformat_minor": 0
}