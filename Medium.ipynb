{
 "cells": [
  {
   "cell_type": "code",
   "execution_count": null,
   "metadata": {
    "collapsed": true,
    "pycharm": {
     "name": "#%%\n"
    }
   },
   "outputs": [],
   "source": [
    "# 74. Search a 2D Matrix\n",
    "def bin_search(lst, target):\n",
    "        left = 0\n",
    "        right = len(lst) - 1\n",
    "\n",
    "        while left <= right:\n",
    "            mid = (right + left) // 2\n",
    "\n",
    "            if lst[mid] == target:\n",
    "                return mid\n",
    "            elif lst[mid] < target:\n",
    "                left = mid + 1\n",
    "            else:\n",
    "                right = mid - 1\n",
    "\n",
    "        else:\n",
    "            return None\n",
    "\n",
    "\n",
    "class Solution:\n",
    "    def searchMatrix(self, matrix: List[List[int]], target: int) -> bool:\n",
    "\n",
    "        tmp = 0\n",
    "        for i in range(len(matrix) - 1):\n",
    "            if matrix[i][0] == target or matrix[i + 1][0] == target:\n",
    "                return True\n",
    "            elif matrix[i][0] < target and target < matrix[i + 1][0]:\n",
    "                tmp = i\n",
    "            elif target > matrix[i + 1][0]:\n",
    "                tmp = i + 1\n",
    "\n",
    "        print(tmp)\n",
    "        res = bin_search(matrix[tmp], target)\n",
    "        print(tmp)\n",
    "\n",
    "        if res is not None:\n",
    "            return True\n",
    "        else:\n",
    "            return False\n",
    "\n",
    "\n",
    "# Approach 2:\n",
    "\n",
    "class Solution:\n",
    "    def searchMatrix(self, matrix: List[List[int]], target: int) -> bool:\n",
    "\n",
    "        m = len(matrix)\n",
    "        if m == 0:\n",
    "            return False\n",
    "        n = len(matrix[0])\n",
    "        if n == 0:\n",
    "            return False\n",
    "        left = 0\n",
    "        right = m * n - 1\n",
    "\n",
    "        while left <= right:\n",
    "            mid = (right + left) // 2\n",
    "            row = mid // n\n",
    "            col = mid % n\n",
    "\n",
    "            if matrix[row][col] == target:\n",
    "                return True\n",
    "            elif matrix[row][col] < target:\n",
    "                left = mid + 1\n",
    "            else:\n",
    "                right = mid - 1\n",
    "\n",
    "        else:\n",
    "            return False"
   ]
  },
  {
   "cell_type": "code",
   "execution_count": null,
   "outputs": [],
   "source": [],
   "metadata": {
    "collapsed": false,
    "pycharm": {
     "name": "#%%\n"
    }
   }
  }
 ],
 "metadata": {
  "kernelspec": {
   "display_name": "Python 3",
   "language": "python",
   "name": "python3"
  },
  "language_info": {
   "codemirror_mode": {
    "name": "ipython",
    "version": 2
   },
   "file_extension": ".py",
   "mimetype": "text/x-python",
   "name": "python",
   "nbconvert_exporter": "python",
   "pygments_lexer": "ipython2",
   "version": "2.7.6"
  }
 },
 "nbformat": 4,
 "nbformat_minor": 0
}