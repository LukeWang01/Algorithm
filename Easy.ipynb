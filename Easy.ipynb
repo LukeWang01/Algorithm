{
 "cells": [
  {
   "cell_type": "code",
   "execution_count": null,
   "metadata": {
    "collapsed": true,
    "pycharm": {
     "name": "#%%\n"
    }
   },
   "outputs": [],
   "source": [
    "from typing import List, Optional\n",
    "\n",
    "\n",
    "# 1089.Duplicate Zeros\n",
    "class Solution:\n",
    "    def duplicateZeros(self, arr: List[int]) -> None:\n",
    "        \"\"\"\n",
    "        Do not return anything, modify arr in-place instead.\n",
    "        \"\"\"\n",
    "        n = len(arr)\n",
    "        cnt = arr.count(0)\n",
    "        N = cnt + n\n",
    "\n",
    "        i = n - 1\n",
    "        j = N - 1\n",
    "\n",
    "        while j >= 0:\n",
    "            if j < n: arr[j] = arr[i]\n",
    "            j -= 1\n",
    "\n",
    "            if arr[i] == 0:\n",
    "                if j < n: arr[j] = arr[i]\n",
    "                j -= 1\n",
    "            i -= 1"
   ]
  },
  {
   "cell_type": "code",
   "execution_count": null,
   "outputs": [],
   "source": [
    "# 383.Ransom Note\n",
    "class Solution:\n",
    "    def canConstruct(self, ransomNote: str, magazine: str) -> bool:\n",
    "        dic = {}\n",
    "        for i in magazine:\n",
    "            if i in dic.keys():\n",
    "                dic[i] += 1\n",
    "            else:\n",
    "                dic[i] = 1\n",
    "\n",
    "        for i in ransomNote:\n",
    "            if i not in dic.keys() or dic[i] == 0:\n",
    "                return False\n",
    "            else:\n",
    "                dic[i] -= 1\n",
    "        return True"
   ],
   "metadata": {
    "collapsed": false,
    "pycharm": {
     "name": "#%%\n"
    }
   }
  },
  {
   "cell_type": "code",
   "execution_count": null,
   "outputs": [],
   "source": [
    "# 876.Middle of the Linked List\n",
    "\n",
    "# Definition for singly-linked list.\n",
    "# class ListNode:\n",
    "#     def __init__(self, val=0, next=None):\n",
    "#         self.val = val\n",
    "#         self.next = next\n",
    "class Solution:\n",
    "    def middleNode(self, head: Optional[ListNode]) -> Optional[ListNode]:\n",
    "        n = 1\n",
    "        t = head\n",
    "        while t.next:\n",
    "            t = t.next\n",
    "            n += 1\n",
    "\n",
    "        for i in range(n // 2):\n",
    "            head = head.next\n",
    "\n",
    "        return head\n",
    "\n",
    "# Approach 1: Output to Array\n",
    "class Solution:\n",
    "    def middleNode(self, head: ListNode) -> ListNode:\n",
    "        arr = [head]\n",
    "        while arr[-1].next:\n",
    "            arr.append(arr[-1].next)\n",
    "        return arr[len(arr) // 2]\n",
    "\n",
    "\n",
    "# Each time, slow go 1 steps while fast go 2 steps.\n",
    "# When fast arrives at the end, slow will arrive right in the middle.\n",
    "def middleNode(self, head):\n",
    "        slow = fast = head\n",
    "        while fast and fast.next:\n",
    "            slow = slow.next\n",
    "            fast = fast.next.next\n",
    "        return slow"
   ],
   "metadata": {
    "collapsed": false,
    "pycharm": {
     "name": "#%%\n"
    }
   }
  },
  {
   "cell_type": "code",
   "execution_count": null,
   "outputs": [],
   "source": [
    "from idlelib.tree import TreeNode\n",
    "\n",
    "\n",
    "# 226.Invert Binary Tree\n",
    "\n",
    "# Definition for a binary tree node.\n",
    "# class TreeNode:\n",
    "#     def __init__(self, val=0, left=None, right=None):\n",
    "#         self.val = val\n",
    "#         self.left = left\n",
    "#         self.right = right\n",
    "class Solution:\n",
    "    def invertTree(self, root: Optional[TreeNode]) -> Optional[TreeNode]:\n",
    "\n",
    "        if not root:\n",
    "            return None\n",
    "        root.left, root.right = self.invertTree(root.right), self.invertTree(root.left)\n",
    "\n",
    "        return root"
   ],
   "metadata": {
    "collapsed": false,
    "pycharm": {
     "name": "#%%\n"
    }
   }
  },
  {
   "cell_type": "code",
   "execution_count": null,
   "outputs": [],
   "source": [
    "# 1. Two Sum\n",
    "#\n",
    "class Solution:\n",
    "    def twoSum(self, nums: List[int], target: int) -> List[int]:\n",
    "        l = len(nums)\n",
    "\n",
    "        for i in range(l):\n",
    "            for j in range(i + 1, l):\n",
    "                if nums[i] + nums[j] == target:\n",
    "                    return [i, j]\n",
    "\n",
    "# O(nlogn)\n",
    "class Solution:\n",
    "    def twoSum(self, nums: List[int], target: int) -> List[int]:\n",
    "        new_nums = [[num, i] for i, num in enumerate(nums)]\n",
    "        new_nums.sort(key=lambda x:x[0])\n",
    "        l = len(new_nums)\n",
    "        for i in range(l):\n",
    "            a = new_nums[i][0]\n",
    "            b = target - a\n",
    "            if b >= a:\n",
    "                res = self.binary_search(new_nums, i + 1, l - 1, b)\n",
    "            else:\n",
    "                res = self.binary_search(new_nums, 0, i - 1, b)\n",
    "\n",
    "            if res is not None:\n",
    "                return [new_nums[i][1], new_nums[res][1]]\n",
    "\n",
    "    def binary_search(self, lst, left, right, val):\n",
    "        while left <= right:\n",
    "            mid = (left + right) // 2\n",
    "\n",
    "            if lst[mid][0] == val:\n",
    "                return mid\n",
    "            elif lst[mid][0] < val:\n",
    "                left = mid + 1\n",
    "            else:\n",
    "                right = mid - 1\n",
    "        else:\n",
    "            return None\n"
   ],
   "metadata": {
    "collapsed": false,
    "pycharm": {
     "name": "#%%\n"
    }
   }
  },
  {
   "cell_type": "code",
   "execution_count": null,
   "outputs": [],
   "source": [
    "# 167. Two Sum II - Input Array Is Sorted\n",
    "class Solution:\n",
    "    def twoSum(self, numbers: List[int], target: int) -> List[int]:\n",
    "        l = len(numbers)\n",
    "        for i in range(l):\n",
    "            a = numbers[i]\n",
    "            b = target - a\n",
    "            if b >= a:\n",
    "                res = self.binary_search(numbers, i + 1, l - 1, b)\n",
    "            else:\n",
    "                res = self.binary_search(numbers, 0, i - 1, b)\n",
    "\n",
    "            if res is not None:\n",
    "                return [i + 1, res + 1]\n",
    "\n",
    "    def binary_search(self, lst, left, right, val):\n",
    "        while left <= right:\n",
    "            mid = (left + right) // 2\n",
    "\n",
    "            if lst[mid] == val:\n",
    "                return mid\n",
    "            elif lst[mid] < val:\n",
    "                left = mid + 1\n",
    "            else:\n",
    "                right = mid - 1\n",
    "        else:\n",
    "            return None\n",
    "\n",
    "#\n",
    "class Solution:\n",
    "    def twoSum(self, numbers: List[int], target: int) -> List[int]:\n",
    "        numbers.sort()\n",
    "        start, end = 0, len(numbers) -1\n",
    "        while start < end:\n",
    "            s = numbers[start] + numbers[end]\n",
    "            if s == target:\n",
    "                return [start + 1, end + 1]\n",
    "            if s < target:\n",
    "                start += 1\n",
    "            else:\n",
    "                end -= 1"
   ],
   "metadata": {
    "collapsed": false,
    "pycharm": {
     "name": "#%%\n"
    }
   }
  },
  {
   "cell_type": "code",
   "execution_count": null,
   "outputs": [],
   "source": [],
   "metadata": {
    "collapsed": false,
    "pycharm": {
     "name": "#%%\n"
    }
   }
  },
  {
   "cell_type": "markdown",
   "source": [],
   "metadata": {
    "collapsed": false,
    "pycharm": {
     "name": "#%% md\n"
    }
   }
  }
 ],
 "metadata": {
  "kernelspec": {
   "display_name": "Python 3",
   "language": "python",
   "name": "python3"
  },
  "language_info": {
   "codemirror_mode": {
    "name": "ipython",
    "version": 2
   },
   "file_extension": ".py",
   "mimetype": "text/x-python",
   "name": "python",
   "nbconvert_exporter": "python",
   "pygments_lexer": "ipython2",
   "version": "2.7.6"
  }
 },
 "nbformat": 4,
 "nbformat_minor": 0
}